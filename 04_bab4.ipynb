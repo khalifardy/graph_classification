{
 "cells": [
  {
   "cell_type": "code",
   "execution_count": 1,
   "id": "4c906374",
   "metadata": {},
   "outputs": [
    {
     "name": "stderr",
     "output_type": "stream",
     "text": [
      "2025-06-09 19:17:43.744681: E external/local_xla/xla/stream_executor/cuda/cuda_fft.cc:467] Unable to register cuFFT factory: Attempting to register factory for plugin cuFFT when one has already been registered\n",
      "WARNING: All log messages before absl::InitializeLog() is called are written to STDERR\n",
      "E0000 00:00:1749471463.986619  117035 cuda_dnn.cc:8579] Unable to register cuDNN factory: Attempting to register factory for plugin cuDNN when one has already been registered\n",
      "E0000 00:00:1749471464.054108  117035 cuda_blas.cc:1407] Unable to register cuBLAS factory: Attempting to register factory for plugin cuBLAS when one has already been registered\n",
      "W0000 00:00:1749471464.702165  117035 computation_placer.cc:177] computation placer already registered. Please check linkage and avoid linking the same target more than once.\n",
      "W0000 00:00:1749471464.702225  117035 computation_placer.cc:177] computation placer already registered. Please check linkage and avoid linking the same target more than once.\n",
      "W0000 00:00:1749471464.702228  117035 computation_placer.cc:177] computation placer already registered. Please check linkage and avoid linking the same target more than once.\n",
      "W0000 00:00:1749471464.702231  117035 computation_placer.cc:177] computation placer already registered. Please check linkage and avoid linking the same target more than once.\n",
      "2025-06-09 19:17:44.798326: I tensorflow/core/platform/cpu_feature_guard.cc:210] This TensorFlow binary is optimized to use available CPU instructions in performance-critical operations.\n",
      "To enable the following instructions: AVX2 FMA, in other operations, rebuild TensorFlow with the appropriate compiler flags.\n",
      "2025-06-09 19:17:57.531581: E external/local_xla/xla/stream_executor/cuda/cuda_platform.cc:51] failed call to cuInit: INTERNAL: CUDA error: Failed call to cuInit: UNKNOWN ERROR (303)\n"
     ]
    }
   ],
   "source": [
    "from stellargraph import StellarGraph\n",
    "import pandas as pd\n",
    "from torch_geometric.datasets import TUDataset"
   ]
  },
  {
   "cell_type": "code",
   "execution_count": 2,
   "id": "da03c652",
   "metadata": {},
   "outputs": [],
   "source": [
    "from IPython.display import display, HTML"
   ]
  },
  {
   "cell_type": "code",
   "execution_count": 3,
   "id": "6312a0d8",
   "metadata": {},
   "outputs": [],
   "source": [
    "dataset = TUDataset(root='/tmp/PROTEINS', name='PROTEINS')"
   ]
  },
  {
   "cell_type": "code",
   "execution_count": 4,
   "id": "03a4175a",
   "metadata": {},
   "outputs": [
    {
     "data": {
      "text/plain": [
       "Data(edge_index=[2, 162], x=[42, 3], y=[1])"
      ]
     },
     "execution_count": 4,
     "metadata": {},
     "output_type": "execute_result"
    }
   ],
   "source": [
    "dataset[0]"
   ]
  },
  {
   "cell_type": "code",
   "execution_count": 5,
   "id": "52f48969",
   "metadata": {},
   "outputs": [
    {
     "data": {
      "text/plain": [
       "PROTEINS(1113)"
      ]
     },
     "execution_count": 5,
     "metadata": {},
     "output_type": "execute_result"
    }
   ],
   "source": [
    "dataset"
   ]
  },
  {
   "cell_type": "code",
   "execution_count": 6,
   "id": "70c71a32",
   "metadata": {},
   "outputs": [],
   "source": [
    "stellar_graphs = []\n",
    "labels = []\n",
    "\n",
    "for data in dataset:\n",
    "    # Ekstrak fitur node\n",
    "    node_features = pd.DataFrame(data.x.numpy())\n",
    "    \n",
    "    # Edge index: bentuk (2, num_edges), convert jadi DataFrame\n",
    "    edges = pd.DataFrame(data.edge_index.T.numpy(), columns=[\"source\", \"target\"])\n",
    "\n",
    "    # Buat StellarGraph\n",
    "    sg = StellarGraph(nodes=node_features, edges=edges)\n",
    "    stellar_graphs.append(sg)\n",
    "\n",
    "    # Simpan label\n",
    "    labels.append(int(data.y.item()))\n",
    "\n",
    "# Konversi label ke Pandas Series agar mirip StellarGraph style\n",
    "graph_labels = pd.Series(labels)"
   ]
  },
  {
   "cell_type": "code",
   "execution_count": 7,
   "id": "472b590f",
   "metadata": {},
   "outputs": [],
   "source": [
    "adjs = [graph.to_adjacency_matrix() for graph in stellar_graphs]"
   ]
  },
  {
   "cell_type": "code",
   "execution_count": 8,
   "id": "0f6b7604",
   "metadata": {},
   "outputs": [],
   "source": [
    "labels = graph_labels.to_numpy(dtype=int)"
   ]
  },
  {
   "cell_type": "code",
   "execution_count": 9,
   "id": "4fa34d3f",
   "metadata": {},
   "outputs": [],
   "source": [
    "import numpy as np\n",
    "import networkx as nx\n",
    "\n",
    "metrics = []\n",
    "for adj in adjs:\n",
    "    # Use from_numpy_array instead of the deprecated from_numpy_matrix\n",
    "    G = nx.from_numpy_array(adj)\n",
    "    \n",
    "    # Calculate network metrics\n",
    "    num_edges = G.number_of_edges()\n",
    "    cc = nx.average_clustering(G)  # Average clustering coefficient\n",
    "    eff = nx.global_efficiency(G)  # Global efficiency\n",
    "    \n",
    "    metrics.append([num_edges, cc, eff])"
   ]
  },
  {
   "cell_type": "code",
   "execution_count": 10,
   "id": "6590eac5",
   "metadata": {},
   "outputs": [],
   "source": [
    "from sklearn.model_selection import train_test_split\n",
    "\n",
    "X_train, X_test, y_train, y_test = train_test_split(metrics, labels, test_size=0.2, random_state=42)\n"
   ]
  },
  {
   "cell_type": "code",
   "execution_count": 11,
   "id": "c1e159e8",
   "metadata": {},
   "outputs": [
    {
     "name": "stdout",
     "output_type": "stream",
     "text": [
      "Accuracy: 0.7309417040358744\n",
      "Precision: 0.7123287671232876\n",
      "Recall: 0.5714285714285714\n",
      "F1-score: 0.6341463414634146\n"
     ]
    }
   ],
   "source": [
    "from sklearn import svm\n",
    "from sklearn.metrics import accuracy_score, precision_score, recall_score, f1_score\n",
    "\n",
    "clf = svm.SVC()\n",
    "clf.fit(X_train, y_train)\n",
    "\n",
    "y_pred = clf.predict(X_test)\n",
    "\n",
    "accuracy = accuracy_score(y_test, y_pred)\n",
    "precision = precision_score(y_test, y_pred)\n",
    "recall = recall_score(y_test, y_pred)\n",
    "f1 = f1_score(y_test, y_pred)\n",
    "\n",
    "print(\"Accuracy:\", accuracy)\n",
    "print(\"Precision:\", precision)\n",
    "print(\"Recall:\", recall)\n",
    "print(\"F1-score:\", f1)"
   ]
  },
  {
   "cell_type": "code",
   "execution_count": null,
   "id": "95d1e57f",
   "metadata": {},
   "outputs": [],
   "source": []
  }
 ],
 "metadata": {
  "kernelspec": {
   "display_name": "env_graph",
   "language": "python",
   "name": "python3"
  },
  "language_info": {
   "codemirror_mode": {
    "name": "ipython",
    "version": 3
   },
   "file_extension": ".py",
   "mimetype": "text/x-python",
   "name": "python",
   "nbconvert_exporter": "python",
   "pygments_lexer": "ipython3",
   "version": "3.10.12"
  }
 },
 "nbformat": 4,
 "nbformat_minor": 5
}
